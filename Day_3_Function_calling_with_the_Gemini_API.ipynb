{
  "metadata": {
    "kernelspec": {
      "name": "python3",
      "display_name": "Python 3",
      "language": "python"
    },
    "language_info": {
      "name": "python",
      "version": "3.10.14",
      "mimetype": "text/x-python",
      "codemirror_mode": {
        "name": "ipython",
        "version": 3
      },
      "pygments_lexer": "ipython3",
      "nbconvert_exporter": "python",
      "file_extension": ".py"
    },
    "colab": {
      "toc_visible": true,
      "name": "Day 3 - Function calling with the Gemini API",
      "provenance": [],
      "include_colab_link": true
    },
    "kaggle": {
      "accelerator": "none",
      "dataSources": [],
      "dockerImageVersionId": 30786,
      "isInternetEnabled": true,
      "language": "python",
      "sourceType": "notebook",
      "isGpuEnabled": false
    }
  },
  "nbformat_minor": 0,
  "nbformat": 4,
  "cells": [
    {
      "cell_type": "markdown",
      "metadata": {
        "id": "view-in-github",
        "colab_type": "text"
      },
      "source": [
        "<a href=\"https://colab.research.google.com/github/oyeyemixisco/Google_Kaggle_GanAI/blob/main/Day_3_Function_calling_with_the_Gemini_API.ipynb\" target=\"_parent\"><img src=\"https://colab.research.google.com/assets/colab-badge.svg\" alt=\"Open In Colab\"/></a>"
      ]
    },
    {
      "cell_type": "markdown",
      "source": [
        "##### Copyright 2024 Google LLC."
      ],
      "metadata": {
        "id": "b6e13eef3f5d"
      }
    },
    {
      "cell_type": "code",
      "source": [
        "# @title Licensed under the Apache License, Version 2.0 (the \"License\");\n",
        "# you may not use this file except in compliance with the License.\n",
        "# You may obtain a copy of the License at\n",
        "#\n",
        "# https://www.apache.org/licenses/LICENSE-2.0\n",
        "#\n",
        "# Unless required by applicable law or agreed to in writing, software\n",
        "# distributed under the License is distributed on an \"AS IS\" BASIS,\n",
        "# WITHOUT WARRANTIES OR CONDITIONS OF ANY KIND, either express or implied.\n",
        "# See the License for the specific language governing permissions and\n",
        "# limitations under the License."
      ],
      "metadata": {
        "cellView": "form",
        "id": "d6597b11df14",
        "jupyter": {
          "source_hidden": true
        }
      },
      "outputs": [],
      "execution_count": null
    },
    {
      "cell_type": "markdown",
      "source": [
        "# Day 3 - Function calling with the Gemini API\n",
        "\n",
        "Welcome back to the Kaggle 5-day Generative AI course!\n",
        "\n",
        "In this notebook, you will use the Gemini API's automatic function calling to build a chat interface over a local database. This example is a toy and is missing a number of safety and security constraints you would use in a real-world example.\n"
      ],
      "metadata": {
        "id": "4a7d3bb68371"
      }
    },
    {
      "cell_type": "markdown",
      "source": [
        "## Setup\n",
        "\n",
        "Start by installing and importing the Python SDK."
      ],
      "metadata": {
        "id": "ea197d1d464f"
      }
    },
    {
      "cell_type": "code",
      "source": [
        "%pip install -q -U 'google-generativeai>=0.8.3'"
      ],
      "metadata": {
        "id": "a24f42e469df",
        "trusted": true,
        "execution": {
          "iopub.status.busy": "2024-11-14T08:58:58.528859Z",
          "iopub.execute_input": "2024-11-14T08:58:58.529282Z",
          "iopub.status.idle": "2024-11-14T08:59:29.377868Z",
          "shell.execute_reply.started": "2024-11-14T08:58:58.529242Z",
          "shell.execute_reply": "2024-11-14T08:59:29.37642Z"
        },
        "outputId": "82d77687-393e-4058-f463-bd3e5dc0a363"
      },
      "outputs": [
        {
          "name": "stdout",
          "text": "Note: you may need to restart the kernel to use updated packages.\n",
          "output_type": "stream"
        }
      ],
      "execution_count": null
    },
    {
      "cell_type": "code",
      "source": [
        "import google.generativeai as genai"
      ],
      "metadata": {
        "id": "02bb0f551e25",
        "trusted": true,
        "execution": {
          "iopub.status.busy": "2024-11-14T08:59:56.91107Z"
        }
      },
      "outputs": [],
      "execution_count": null
    },
    {
      "cell_type": "markdown",
      "source": [
        "### Set up your API key\n",
        "\n",
        "To run the following cell, your API key must be stored it in a [Kaggle secret](https://www.kaggle.com/discussions/product-feedback/114053) named `GOOGLE_API_KEY`.\n",
        "\n",
        "If you don't already have an API key, you can grab one from [AI Studio](https://aistudio.google.com/app/apikey). You can find [detailed instructions in the docs](https://ai.google.dev/gemini-api/docs/api-key).\n",
        "\n",
        "To make the key available through Kaggle secrets, choose `Secrets` from the `Add-ons` menu and follow the instructions to add your key or enable it for this notebook."
      ],
      "metadata": {
        "id": "90e83cddff61"
      }
    },
    {
      "cell_type": "code",
      "source": [
        "from kaggle_secrets import UserSecretsClient\n",
        "\n",
        "GOOGLE_API_KEY = UserSecretsClient().get_secret(\"GOOGLE_API_KEY\")\n",
        "genai.configure(api_key=GOOGLE_API_KEY)"
      ],
      "metadata": {
        "id": "5cc8325f051d",
        "trusted": true,
        "execution": {
          "iopub.status.busy": "2024-11-14T09:00:21.888959Z",
          "iopub.execute_input": "2024-11-14T09:00:21.889299Z",
          "iopub.status.idle": "2024-11-14T09:00:22.064462Z",
          "shell.execute_reply.started": "2024-11-14T09:00:21.889265Z",
          "shell.execute_reply": "2024-11-14T09:00:22.063282Z"
        }
      },
      "outputs": [],
      "execution_count": null
    },
    {
      "cell_type": "markdown",
      "source": [
        "If you received an error response along the lines of `No user secrets exist for kernel id ...`, then you need to add your API key via `Add-ons`, `Secrets` **and** enable it.\n",
        "\n",
        "![Screenshot of the checkbox to enable GOOGLE_API_KEY secret](https://storage.googleapis.com/kaggle-media/Images/5gdai_sc_3.png)"
      ],
      "metadata": {
        "id": "857b6f96eb38"
      }
    },
    {
      "cell_type": "markdown",
      "source": [
        "## Create a local database\n",
        "\n",
        "For this minimal example, you'll create a local SQLite database and add some synthetic data so you have something to query.\n",
        "\n",
        "Load the `sql` IPython extension so you can interact with the database using magic commands (the `%` instructions) to create a new, empty SQLite database."
      ],
      "metadata": {
        "id": "ed8fc6062c62"
      }
    },
    {
      "cell_type": "code",
      "source": [
        "%load_ext sql\n",
        "%sql sqlite:///sample.db"
      ],
      "metadata": {
        "id": "c98a627ef07b",
        "trusted": true,
        "execution": {
          "iopub.status.busy": "2024-11-14T09:01:23.032361Z",
          "iopub.execute_input": "2024-11-14T09:01:23.032862Z",
          "iopub.status.idle": "2024-11-14T09:01:24.416087Z",
          "shell.execute_reply.started": "2024-11-14T09:01:23.03282Z",
          "shell.execute_reply": "2024-11-14T09:01:24.414318Z"
        }
      },
      "outputs": [],
      "execution_count": null
    },
    {
      "cell_type": "markdown",
      "source": [
        "Create the tables and insert some synthetic data. Feel free to tweak this structure and data."
      ],
      "metadata": {
        "id": "14e7bc18b8af"
      }
    },
    {
      "cell_type": "code",
      "source": [
        "%%sql\n",
        "-- Create the 'products' table\n",
        "CREATE TABLE IF NOT EXISTS products (\n",
        "  \tproduct_id INTEGER PRIMARY KEY AUTOINCREMENT,\n",
        "  \tproduct_name VARCHAR(255) NOT NULL,\n",
        "  \tprice DECIMAL(10, 2) NOT NULL\n",
        "  );\n",
        "\n",
        "-- Create the 'staff' table\n",
        "CREATE TABLE IF NOT EXISTS staff (\n",
        "  \tstaff_id INTEGER PRIMARY KEY AUTOINCREMENT,\n",
        "  \tfirst_name VARCHAR(255) NOT NULL,\n",
        "  \tlast_name VARCHAR(255) NOT NULL\n",
        "  );\n",
        "\n",
        "-- Create the 'orders' table\n",
        "CREATE TABLE IF NOT EXISTS orders (\n",
        "  \torder_id INTEGER PRIMARY KEY AUTOINCREMENT,\n",
        "  \tcustomer_name VARCHAR(255) NOT NULL,\n",
        "  \tstaff_id INTEGER NOT NULL,\n",
        "  \tproduct_id INTEGER NOT NULL,\n",
        "  \tFOREIGN KEY (staff_id) REFERENCES staff (staff_id),\n",
        "  \tFOREIGN KEY (product_id) REFERENCES products (product_id)\n",
        "  );\n",
        "\n",
        "-- Insert data into the 'products' table\n",
        "INSERT INTO products (product_name, price) VALUES\n",
        "  \t('MacBook', 799.99),\n",
        "  \t('Keyboard', 129.99),\n",
        "    ('Hp', 279.99),\n",
        "  \t('ASUS', 429.99),\n",
        "  \t('Mouse', 29.99);\n",
        "\n",
        "-- Insert data into the 'staff' table\n",
        "INSERT INTO staff (first_name, last_name) VALUES\n",
        "  \t('Alice', 'Smith'),\n",
        "  \t('Bob', 'Johnson'),\n",
        "  \t('Charlie', 'Williams');\n",
        "\n",
        "-- Insert data into the 'orders' table\n",
        "INSERT INTO orders (customer_name, staff_id, product_id) VALUES\n",
        "  \t('David Lee', 1, 1),\n",
        "  \t('Emily Chen', 2, 4),\n",
        "    ('Dare Azeez', 1, 3),\n",
        "  \t('Emily Chen', 2, 2),\n",
        "  \t('Frank Brown', 1, 5);\n"
      ],
      "metadata": {
        "id": "4e186de46cf1",
        "trusted": true,
        "execution": {
          "iopub.status.busy": "2024-11-14T09:04:33.554885Z",
          "iopub.execute_input": "2024-11-14T09:04:33.555578Z",
          "iopub.status.idle": "2024-11-14T09:04:33.652403Z",
          "shell.execute_reply.started": "2024-11-14T09:04:33.555535Z",
          "shell.execute_reply": "2024-11-14T09:04:33.651157Z"
        },
        "outputId": "a3d6291d-f784-4dc1-cb9d-64eabd1182f5"
      },
      "outputs": [
        {
          "name": "stdout",
          "text": " * sqlite:///sample.db\nDone.\nDone.\nDone.\n5 rows affected.\n3 rows affected.\n5 rows affected.\n",
          "output_type": "stream"
        },
        {
          "execution_count": 6,
          "output_type": "execute_result",
          "data": {
            "text/plain": "[]"
          },
          "metadata": {}
        }
      ],
      "execution_count": null
    },
    {
      "cell_type": "markdown",
      "source": [
        "## Define database functions\n",
        "\n",
        "Function calling with Gemini API's Python SDK can be implemented by defining [an OpenAPI schema](https://ai.google.dev/api/caching#Schema) that is passed to the model. Alternatively you can define Python functions and let the SDK inspect them to automatically define the schema. In this latter case, it's important that the functions are type annotated and have accurate docstrings that describe what the functions do - the model has no insight into the function body, so the docs function as the interface.\n",
        "\n",
        "By providing three key pieces of functionality - listing tables, describing a table, and executing a query - the LLM (or even another user) will have the basic tools needed to understand and interrogate the database.\n",
        "\n",
        "Start with a database connection that will be used across all of the functions."
      ],
      "metadata": {
        "id": "83901899a79b"
      }
    },
    {
      "cell_type": "code",
      "source": [
        "import sqlite3\n",
        "\n",
        "db_file = \"sample.db\"\n",
        "db_conn = sqlite3.connect(db_file)"
      ],
      "metadata": {
        "id": "437168bc6b6e",
        "trusted": true,
        "execution": {
          "iopub.status.busy": "2024-11-14T09:05:30.164158Z",
          "iopub.execute_input": "2024-11-14T09:05:30.164618Z",
          "iopub.status.idle": "2024-11-14T09:05:30.170559Z",
          "shell.execute_reply.started": "2024-11-14T09:05:30.164575Z",
          "shell.execute_reply": "2024-11-14T09:05:30.169351Z"
        }
      },
      "outputs": [],
      "execution_count": null
    },
    {
      "cell_type": "markdown",
      "source": [
        "The first function will list all tables available in the database. Define it, and test it out to ensure it works."
      ],
      "metadata": {
        "id": "b68b1a2c37d9"
      }
    },
    {
      "cell_type": "code",
      "source": [
        "def list_tables() -> list[str]:\n",
        "    \"\"\"Retrieve the names of all tables in the database.\"\"\"\n",
        "    # Include print logging statements so you can see when functions are being called.\n",
        "    print(' - DB CALL: list_tables')\n",
        "\n",
        "    cursor = db_conn.cursor()\n",
        "\n",
        "    # Fetch the table names.\n",
        "    cursor.execute(\"SELECT name FROM sqlite_master WHERE type='table';\")\n",
        "\n",
        "    tables = cursor.fetchall()\n",
        "    return [t[0] for t in tables]\n",
        "\n",
        "\n",
        "list_tables()"
      ],
      "metadata": {
        "id": "bdb0e4d2bb4b",
        "trusted": true,
        "execution": {
          "iopub.status.busy": "2024-11-14T09:05:57.384254Z",
          "iopub.execute_input": "2024-11-14T09:05:57.384655Z",
          "iopub.status.idle": "2024-11-14T09:05:57.395005Z",
          "shell.execute_reply.started": "2024-11-14T09:05:57.38462Z",
          "shell.execute_reply": "2024-11-14T09:05:57.393842Z"
        },
        "outputId": "5e6fe664-f117-48c6-eb45-68cfb4d56f54"
      },
      "outputs": [
        {
          "name": "stdout",
          "text": " - DB CALL: list_tables\n",
          "output_type": "stream"
        },
        {
          "execution_count": 9,
          "output_type": "execute_result",
          "data": {
            "text/plain": "['products', 'sqlite_sequence', 'staff', 'orders']"
          },
          "metadata": {}
        }
      ],
      "execution_count": null
    },
    {
      "cell_type": "markdown",
      "source": [
        "Once the available tables is known, the next step a database user will need is to understand what columns are available in a given table. Define that too, and test that it works as expected."
      ],
      "metadata": {
        "id": "b6c010b1b6c2"
      }
    },
    {
      "cell_type": "code",
      "source": [
        "def describe_table(table_name: str) -> list[tuple[str, str]]:\n",
        "    \"\"\"Look up the table schema.\n",
        "\n",
        "    Returns:\n",
        "      List of columns, where each entry is a tuple of (column, type).\n",
        "    \"\"\"\n",
        "    print(' - DB CALL: describe_table')\n",
        "\n",
        "    cursor = db_conn.cursor()\n",
        "\n",
        "    cursor.execute(f\"PRAGMA table_info({table_name});\")\n",
        "\n",
        "    schema = cursor.fetchall()\n",
        "    # [column index, column name, column type, ...]\n",
        "    return [(col[1], col[2]) for col in schema]\n",
        "\n",
        "\n",
        "describe_table(\"products\")\n",
        "\n"
      ],
      "metadata": {
        "id": "ecdb109298c4",
        "trusted": true,
        "execution": {
          "iopub.status.busy": "2024-11-14T09:08:51.166603Z",
          "iopub.execute_input": "2024-11-14T09:08:51.167065Z",
          "iopub.status.idle": "2024-11-14T09:08:51.178519Z",
          "shell.execute_reply.started": "2024-11-14T09:08:51.167017Z",
          "shell.execute_reply": "2024-11-14T09:08:51.176964Z"
        },
        "outputId": "57f1534f-7ee6-4141-8df8-094aa5bf8c9f"
      },
      "outputs": [
        {
          "name": "stdout",
          "text": " - DB CALL: describe_table\n",
          "output_type": "stream"
        },
        {
          "execution_count": 14,
          "output_type": "execute_result",
          "data": {
            "text/plain": "[('product_id', 'INTEGER'),\n ('product_name', 'VARCHAR(255)'),\n ('price', 'DECIMAL(10, 2)')]"
          },
          "metadata": {}
        }
      ],
      "execution_count": null
    },
    {
      "cell_type": "markdown",
      "source": [
        "**The staff Table**"
      ],
      "metadata": {
        "id": "PU5jDvmJNhFg"
      }
    },
    {
      "cell_type": "code",
      "source": [
        "describe_table(\"staff\")"
      ],
      "metadata": {
        "trusted": true,
        "execution": {
          "iopub.status.busy": "2024-11-14T09:08:54.64244Z",
          "iopub.execute_input": "2024-11-14T09:08:54.643429Z",
          "iopub.status.idle": "2024-11-14T09:08:54.651946Z",
          "shell.execute_reply.started": "2024-11-14T09:08:54.643376Z",
          "shell.execute_reply": "2024-11-14T09:08:54.650614Z"
        },
        "id": "SBVs23mbNhFg",
        "outputId": "fea3cc78-63d3-4e2b-8b03-6010d9ee0a7b"
      },
      "outputs": [
        {
          "name": "stdout",
          "text": " - DB CALL: describe_table\n",
          "output_type": "stream"
        },
        {
          "execution_count": 15,
          "output_type": "execute_result",
          "data": {
            "text/plain": "[('staff_id', 'INTEGER'),\n ('first_name', 'VARCHAR(255)'),\n ('last_name', 'VARCHAR(255)')]"
          },
          "metadata": {}
        }
      ],
      "execution_count": null
    },
    {
      "cell_type": "markdown",
      "source": [
        "The order table"
      ],
      "metadata": {
        "id": "1EaMVjH4NhFh"
      }
    },
    {
      "cell_type": "code",
      "source": [
        "describe_table(\"orders\")"
      ],
      "metadata": {
        "trusted": true,
        "execution": {
          "iopub.status.busy": "2024-11-14T09:09:30.964712Z",
          "iopub.execute_input": "2024-11-14T09:09:30.965192Z",
          "iopub.status.idle": "2024-11-14T09:09:30.973851Z",
          "shell.execute_reply.started": "2024-11-14T09:09:30.965149Z",
          "shell.execute_reply": "2024-11-14T09:09:30.972787Z"
        },
        "id": "sKsqowlqNhFh",
        "outputId": "0b0831ea-f0a6-4348-8d88-84b1f7e75855"
      },
      "outputs": [
        {
          "name": "stdout",
          "text": " - DB CALL: describe_table\n",
          "output_type": "stream"
        },
        {
          "execution_count": 16,
          "output_type": "execute_result",
          "data": {
            "text/plain": "[('order_id', 'INTEGER'),\n ('customer_name', 'VARCHAR(255)'),\n ('staff_id', 'INTEGER'),\n ('product_id', 'INTEGER')]"
          },
          "metadata": {}
        }
      ],
      "execution_count": null
    },
    {
      "cell_type": "markdown",
      "source": [
        "Now that the system knows what tables and columns are present, it has enough information to be able to generate and run a `SELECT` query. Now provide that functionality, and test that it works."
      ],
      "metadata": {
        "id": "f6053a2ca272"
      }
    },
    {
      "cell_type": "code",
      "source": [
        "def execute_query(sql: str) -> list[list[str]]:\n",
        "    \"\"\"Execute a SELECT statement, returning the results.\"\"\"\n",
        "    print(' - DB CALL: execute_query')\n",
        "\n",
        "    cursor = db_conn.cursor()\n",
        "\n",
        "    cursor.execute(sql)\n",
        "    return cursor.fetchall()\n",
        "\n",
        "\n",
        "execute_query(\"select * from products\")"
      ],
      "metadata": {
        "id": "9e405db8b3f6",
        "trusted": true,
        "execution": {
          "iopub.status.busy": "2024-11-14T09:09:42.526118Z",
          "iopub.execute_input": "2024-11-14T09:09:42.526538Z",
          "iopub.status.idle": "2024-11-14T09:09:42.537053Z",
          "shell.execute_reply.started": "2024-11-14T09:09:42.526499Z",
          "shell.execute_reply": "2024-11-14T09:09:42.535717Z"
        },
        "outputId": "b602e5ab-1290-4cc4-f61c-0e049ab4200d"
      },
      "outputs": [
        {
          "name": "stdout",
          "text": " - DB CALL: execute_query\n",
          "output_type": "stream"
        },
        {
          "execution_count": 17,
          "output_type": "execute_result",
          "data": {
            "text/plain": "[(1, 'MacBook', 799.99),\n (2, 'Keyboard', 129.99),\n (3, 'Hp', 279.99),\n (4, 'ASUS', 429.99),\n (5, 'Mouse', 29.99)]"
          },
          "metadata": {}
        }
      ],
      "execution_count": null
    },
    {
      "cell_type": "markdown",
      "source": [
        "## Implement function calls\n",
        "\n",
        "Now you can put it all together in a call to the Gemini API.\n",
        "\n",
        "Function calling works by adding specific messages to a chat session. When function schemas are defined and made available to the model and a conversation is started, instead of returning a text response, the model may return a `function_call` instead. When this happens, the client must respond with a `function_response`, indicating the result of the call, and the conversation can continue on as normal.\n",
        "\n",
        "This function calling interaction normally happens manually, allowing you, the client, to validate and initiate the call. However the Python SDK also supports **automatic function calling**, where the supplied functions will be automatically invoked. This is a powerful feature and should only be exposed when it is safe to do so, such as when the functions have no [side-effects](https://en.wikipedia.org/wiki/Side_effect_(computer_science)).\n",
        "\n",
        "Here's the state diagram representing the conversation flow with function calling. With automatic function calling, the bottom row is executed automatically by the Python SDK. In manual function calling, you write the code to run each step individually.\n",
        "\n",
        "![function calling state diagram](https://codelabs.developers.google.com/static/codelabs/gemini-function-calling/img/gemini-function-calling-overview_1440.png)"
      ],
      "metadata": {
        "id": "ac464dfb35a0"
      }
    },
    {
      "cell_type": "code",
      "source": [
        "# These are the Python functions defined above.\n",
        "db_tools = [list_tables, describe_table, execute_query]\n",
        "\n",
        "instruction = \"\"\"You are a helpful chatbot that can interact with an SQL database for a computer\n",
        "store. You will take the users questions and turn them into SQL queries using the tools\n",
        "available. Once you have the information you need, you will answer the user's question using\n",
        "the data returned. Use list_tables to see what tables are present, describe_table to understand\n",
        "the schema, and execute_query to issue an SQL SELECT query.\"\"\"\n",
        "\n",
        "model = genai.GenerativeModel(\n",
        "    \"models/gemini-1.5-pro\", tools=db_tools, system_instruction=instruction\n",
        ")\n",
        "\n",
        "# Define a retry policy. The model might make multiple consecutive calls automatically\n",
        "# for a complex query, this ensures the client retries if it hits quota limits.\n",
        "from google.api_core import retry\n",
        "\n",
        "retry_policy = {\"retry\": retry.Retry(predicate=retry.if_transient_error)}\n",
        "\n",
        "# Start a chat with automatic function calling enabled.\n",
        "chat = model.start_chat(enable_automatic_function_calling=True)"
      ],
      "metadata": {
        "id": "f4839540066d",
        "trusted": true,
        "execution": {
          "iopub.status.busy": "2024-11-14T10:12:50.063696Z",
          "iopub.execute_input": "2024-11-14T10:12:50.0648Z",
          "iopub.status.idle": "2024-11-14T10:12:50.080304Z",
          "shell.execute_reply.started": "2024-11-14T10:12:50.064749Z",
          "shell.execute_reply": "2024-11-14T10:12:50.078541Z"
        }
      },
      "outputs": [],
      "execution_count": null
    },
    {
      "cell_type": "markdown",
      "source": [
        "Now you can engage in a chat conversation where you can ask about the contents of the database."
      ],
      "metadata": {
        "id": "5f120977f1ee"
      }
    },
    {
      "cell_type": "code",
      "source": [
        "resp = chat.send_message(\"What is the cheapest product?\", request_options=retry_policy)\n",
        "print(resp.text)"
      ],
      "metadata": {
        "id": "111cfb79338b",
        "trusted": true,
        "execution": {
          "iopub.status.busy": "2024-11-14T09:19:33.989025Z",
          "iopub.execute_input": "2024-11-14T09:19:33.989465Z",
          "iopub.status.idle": "2024-11-14T09:19:41.597448Z",
          "shell.execute_reply.started": "2024-11-14T09:19:33.989422Z",
          "shell.execute_reply": "2024-11-14T09:19:41.596291Z"
        },
        "outputId": "843a4a3a-ffba-4628-b196-153ec48766e7"
      },
      "outputs": [
        {
          "name": "stdout",
          "text": " - DB CALL: list_tables\n - DB CALL: describe_table\n - DB CALL: execute_query\nThe cheapest product is the Mouse.\n",
          "output_type": "stream"
        }
      ],
      "execution_count": null
    },
    {
      "cell_type": "code",
      "source": [
        "resp = chat.send_message(\"can you draw a chart for the product against prices\", request_options=retry_policy)\n",
        "print(resp)"
      ],
      "metadata": {
        "trusted": true,
        "execution": {
          "iopub.status.busy": "2024-11-14T09:19:46.640247Z",
          "iopub.execute_input": "2024-11-14T09:19:46.640902Z",
          "iopub.status.idle": "2024-11-14T09:21:17.342282Z",
          "shell.execute_reply.started": "2024-11-14T09:19:46.640809Z",
          "shell.execute_reply": "2024-11-14T09:21:17.340854Z"
        },
        "id": "GLRmjs7kNhFi",
        "outputId": "9e856bfd-db4f-4a45-ff8e-fd07088d35cd"
      },
      "outputs": [
        {
          "name": "stdout",
          "text": " - DB CALL: execute_query\nresponse:\nGenerateContentResponse(\n    done=True,\n    iterator=None,\n    result=protos.GenerateContentResponse({\n      \"candidates\": [\n        {\n          \"content\": {\n            \"parts\": [\n              {\n                \"text\": \"| Product Name | Price |\\n|-------------|-------|\\n| MacBook     | 799.99|\\n| Keyboard    | 129.99|\\n| Hp           | 279.99|\\n| ASUS        | 429.99|\\n| Mouse       | 29.99 |\\n\"\n              }\n            ],\n            \"role\": \"model\"\n          },\n          \"finish_reason\": \"STOP\",\n          \"avg_logprobs\": -0.08655436008007496\n        }\n      ],\n      \"usage_metadata\": {\n        \"prompt_token_count\": 517,\n        \"candidates_token_count\": 77,\n        \"total_token_count\": 594\n      }\n    }),\n)\n",
          "output_type": "stream"
        }
      ],
      "execution_count": null
    },
    {
      "cell_type": "markdown",
      "source": [
        "If you re-use the same [`ChatSession`](https://github.com/google-gemini/generative-ai-python/blob/main/docs/api/google/generativeai/ChatSession.md) object, the conversation will continue statefully. If you wish to start fresh, you can call [`start_chat`](https://github.com/google-gemini/generative-ai-python/blob/main/docs/api/google/generativeai/GenerativeModel.md#start_chat) again, or call [`rewind`](https://github.com/google-gemini/generative-ai-python/blob/main/docs/api/google/generativeai/ChatSession.md#rewind) on the chat object to go back a turn.\n",
        "\n",
        "Continue the chat here by asking a follow-up question. Note that the database information is preserved, and the context of the specific product is inferred."
      ],
      "metadata": {
        "id": "43595d4ef920"
      }
    },
    {
      "cell_type": "code",
      "source": [
        "resp = chat.send_message(\"and how much is it?\", request_options=retry_policy)\n",
        "print(resp.text)"
      ],
      "metadata": {
        "id": "647cbcc43993",
        "trusted": true,
        "execution": {
          "iopub.status.busy": "2024-11-14T09:13:43.819118Z",
          "iopub.execute_input": "2024-11-14T09:13:43.81954Z",
          "iopub.status.idle": "2024-11-14T09:13:44.752251Z",
          "shell.execute_reply.started": "2024-11-14T09:13:43.819502Z",
          "shell.execute_reply": "2024-11-14T09:13:44.750949Z"
        },
        "outputId": "d00ebe53-7657-4301-b2f9-1582d8932c98"
      },
      "outputs": [
        {
          "name": "stdout",
          "text": " - DB CALL: execute_query\nThe cheapest product is Mouse and it costs $29.99. \n\n",
          "output_type": "stream"
        }
      ],
      "execution_count": null
    },
    {
      "cell_type": "markdown",
      "source": [
        "Asking the Models different questions"
      ],
      "metadata": {
        "id": "40B2Tsd1NhFj"
      }
    },
    {
      "cell_type": "code",
      "source": [
        "resp = chat.send_message(\"who among the staff have the highest sales\", request_options=retry_policy)\n",
        "print(resp.text)"
      ],
      "metadata": {
        "trusted": true,
        "execution": {
          "iopub.status.busy": "2024-11-14T09:15:01.92008Z",
          "iopub.execute_input": "2024-11-14T09:15:01.920686Z",
          "iopub.status.idle": "2024-11-14T09:15:04.292328Z",
          "shell.execute_reply.started": "2024-11-14T09:15:01.920634Z",
          "shell.execute_reply": "2024-11-14T09:15:04.290616Z"
        },
        "id": "dMq3d3C_NhFj",
        "outputId": "23d19144-b536-494d-eee9-2caf0e1252f0"
      },
      "outputs": [
        {
          "name": "stdout",
          "text": " - DB CALL: list_tables\n - DB CALL: describe_table\n - DB CALL: describe_table\n - DB CALL: execute_query\nAlice Smith has the highest sales. \n\n",
          "output_type": "stream"
        }
      ],
      "execution_count": null
    },
    {
      "cell_type": "code",
      "source": [
        "resp = chat.send_message(\"and how much is it?\", request_options=retry_policy)\n",
        "print(resp.text)"
      ],
      "metadata": {
        "trusted": true,
        "execution": {
          "iopub.status.busy": "2024-11-14T09:15:38.469104Z",
          "iopub.execute_input": "2024-11-14T09:15:38.469565Z",
          "iopub.status.idle": "2024-11-14T09:15:39.560391Z",
          "shell.execute_reply.started": "2024-11-14T09:15:38.469514Z",
          "shell.execute_reply": "2024-11-14T09:15:39.55915Z"
        },
        "id": "0M1zTYT9NhFk",
        "outputId": "7a76262a-7132-4bc1-c09f-30be7b6ad16a"
      },
      "outputs": [
        {
          "name": "stdout",
          "text": " - DB CALL: execute_query\nAlice Smith has made $1109.97 in sales. \n\n",
          "output_type": "stream"
        }
      ],
      "execution_count": null
    },
    {
      "cell_type": "code",
      "source": [
        "resp = chat.send_message(\"Is there any customer that bought tow different items\", request_options=retry_policy)\n",
        "print(resp.text)"
      ],
      "metadata": {
        "trusted": true,
        "execution": {
          "iopub.status.busy": "2024-11-14T09:22:58.130984Z",
          "iopub.execute_input": "2024-11-14T09:22:58.13145Z",
          "iopub.status.idle": "2024-11-14T09:23:03.181177Z",
          "shell.execute_reply.started": "2024-11-14T09:22:58.13141Z",
          "shell.execute_reply": "2024-11-14T09:23:03.179525Z"
        },
        "id": "Q3OjWcBhNhFk",
        "outputId": "3f231314-5ea0-498e-c46e-5a25299f54fc"
      },
      "outputs": [
        {
          "name": "stdout",
          "text": " - DB CALL: list_tables\n - DB CALL: describe_table\n - DB CALL: execute_query\nYes, Emily Chen bought more than one different item.\n\n",
          "output_type": "stream"
        }
      ],
      "execution_count": null
    },
    {
      "cell_type": "code",
      "source": [
        "resp = chat.send_message(\"what did he buy?\", request_options=retry_policy)\n",
        "print(resp.text)"
      ],
      "metadata": {
        "trusted": true,
        "execution": {
          "iopub.status.busy": "2024-11-14T09:23:09.771638Z",
          "iopub.execute_input": "2024-11-14T09:23:09.772826Z",
          "iopub.status.idle": "2024-11-14T09:23:42.026583Z",
          "shell.execute_reply.started": "2024-11-14T09:23:09.772763Z",
          "shell.execute_reply": "2024-11-14T09:23:42.025321Z"
        },
        "id": "G-pChRPnNhFk",
        "outputId": "c7edff38-e7cb-4108-8f36-c5e47fa4b9d7"
      },
      "outputs": [
        {
          "name": "stdout",
          "text": " - DB CALL: execute_query\nEmily Chen bought an ASUS and a Keyboard.\n\n",
          "output_type": "stream"
        }
      ],
      "execution_count": null
    },
    {
      "cell_type": "markdown",
      "source": [
        "Explore the chat session and ask your own questions. If you want to try asking more complex questions, try using the `gemini-1.5-pro` model. It has a lower rate limit, so calls might take a bit longer on the free tier, but you'll notice an improvement in expressivity."
      ],
      "metadata": {
        "id": "d67f635191c8"
      }
    },
    {
      "cell_type": "code",
      "source": [
        "model = genai.GenerativeModel(\n",
        "    \"models/gemini-1.5-pro-latest\", tools=db_tools, system_instruction=instruction\n",
        ")\n",
        "\n",
        "chat = model.start_chat(enable_automatic_function_calling=True)\n",
        "response = chat.send_message('Which salesperson sold the cheapest product?', request_options=retry_policy)\n",
        "print(response.text)"
      ],
      "metadata": {
        "trusted": true,
        "execution": {
          "iopub.status.busy": "2024-11-14T09:23:51.661076Z",
          "iopub.execute_input": "2024-11-14T09:23:51.661524Z",
          "iopub.status.idle": "2024-11-14T09:25:17.959433Z",
          "shell.execute_reply.started": "2024-11-14T09:23:51.661484Z",
          "shell.execute_reply": "2024-11-14T09:25:17.958147Z"
        },
        "id": "URiEcOfLNhFk",
        "outputId": "d99e9ceb-1f7b-446b-c6fc-e7725def3f0c"
      },
      "outputs": [
        {
          "name": "stdout",
          "text": " - DB CALL: list_tables\n - DB CALL: describe_table\n - DB CALL: describe_table\n - DB CALL: describe_table\n - DB CALL: execute_query\nAlice Smith sold the cheapest product.\n",
          "output_type": "stream"
        }
      ],
      "execution_count": null
    },
    {
      "cell_type": "markdown",
      "source": [
        "### Inspecting the conversation\n",
        "\n",
        "To see the calls that the model makes, and what the client returns in response, you can inspect `chat.history`. This helper function will print out each turn along with the relevant fields passed or returned."
      ],
      "metadata": {
        "id": "1f5bb6d9bd6a"
      }
    },
    {
      "cell_type": "code",
      "source": [
        "import textwrap\n",
        "\n",
        "\n",
        "def print_chat_turns(chat):\n",
        "    \"\"\"Prints out each turn in the chat history, including function calls and responses.\"\"\"\n",
        "    for event in chat.history:\n",
        "        print(f\"{event.role.capitalize()}:\")\n",
        "\n",
        "        for part in event.parts:\n",
        "            if txt := part.text:\n",
        "                print(f'  \"{txt}\"')\n",
        "            elif fn := part.function_call:\n",
        "                args = \", \".join(f\"{key}={val}\" for key, val in fn.args.items())\n",
        "                print(f\"  Function call: {fn.name}({args})\")\n",
        "            elif resp := part.function_response:\n",
        "                print(\"  Function response:\")\n",
        "                print(textwrap.indent(str(resp), \"    \"))\n",
        "\n",
        "        print()\n",
        "\n",
        "\n",
        "print_chat_turns(chat)"
      ],
      "metadata": {
        "id": "639963cc64e2",
        "trusted": true,
        "execution": {
          "iopub.status.busy": "2024-11-14T09:25:58.091341Z",
          "iopub.execute_input": "2024-11-14T09:25:58.091871Z",
          "iopub.status.idle": "2024-11-14T09:25:58.104259Z",
          "shell.execute_reply.started": "2024-11-14T09:25:58.091823Z",
          "shell.execute_reply": "2024-11-14T09:25:58.102985Z"
        },
        "outputId": "d5a3141b-009b-4dda-f136-403e3919fcfd"
      },
      "outputs": [
        {
          "name": "stdout",
          "text": "User:\n  \"Which salesperson sold the cheapest product?\"\n\nModel:\n  Function call: list_tables()\n\nUser:\n  Function response:\n    name: \"list_tables\"\n    response {\n      fields {\n        key: \"result\"\n        value {\n          list_value {\n            values {\n              string_value: \"products\"\n            }\n            values {\n              string_value: \"sqlite_sequence\"\n            }\n            values {\n              string_value: \"staff\"\n            }\n            values {\n              string_value: \"orders\"\n            }\n          }\n        }\n      }\n    }\n\n\nModel:\n  Function call: describe_table(table_name=products)\n\nUser:\n  Function response:\n    name: \"describe_table\"\n    response {\n      fields {\n        key: \"result\"\n        value {\n          list_value {\n            values {\n              list_value {\n                values {\n                  string_value: \"product_id\"\n                }\n                values {\n                  string_value: \"INTEGER\"\n                }\n              }\n            }\n            values {\n              list_value {\n                values {\n                  string_value: \"product_name\"\n                }\n                values {\n                  string_value: \"VARCHAR(255)\"\n                }\n              }\n            }\n            values {\n              list_value {\n                values {\n                  string_value: \"price\"\n                }\n                values {\n                  string_value: \"DECIMAL(10, 2)\"\n                }\n              }\n            }\n          }\n        }\n      }\n    }\n\n\nModel:\n  Function call: describe_table(table_name=orders)\n\nUser:\n  Function response:\n    name: \"describe_table\"\n    response {\n      fields {\n        key: \"result\"\n        value {\n          list_value {\n            values {\n              list_value {\n                values {\n                  string_value: \"order_id\"\n                }\n                values {\n                  string_value: \"INTEGER\"\n                }\n              }\n            }\n            values {\n              list_value {\n                values {\n                  string_value: \"customer_name\"\n                }\n                values {\n                  string_value: \"VARCHAR(255)\"\n                }\n              }\n            }\n            values {\n              list_value {\n                values {\n                  string_value: \"staff_id\"\n                }\n                values {\n                  string_value: \"INTEGER\"\n                }\n              }\n            }\n            values {\n              list_value {\n                values {\n                  string_value: \"product_id\"\n                }\n                values {\n                  string_value: \"INTEGER\"\n                }\n              }\n            }\n          }\n        }\n      }\n    }\n\n\nModel:\n  Function call: describe_table(table_name=staff)\n\nUser:\n  Function response:\n    name: \"describe_table\"\n    response {\n      fields {\n        key: \"result\"\n        value {\n          list_value {\n            values {\n              list_value {\n                values {\n                  string_value: \"staff_id\"\n                }\n                values {\n                  string_value: \"INTEGER\"\n                }\n              }\n            }\n            values {\n              list_value {\n                values {\n                  string_value: \"first_name\"\n                }\n                values {\n                  string_value: \"VARCHAR(255)\"\n                }\n              }\n            }\n            values {\n              list_value {\n                values {\n                  string_value: \"last_name\"\n                }\n                values {\n                  string_value: \"VARCHAR(255)\"\n                }\n              }\n            }\n          }\n        }\n      }\n    }\n\n\nModel:\n  Function call: execute_query(sql=SELECT staff.first_name, staff.last_name FROM staff INNER JOIN orders ON staff.staff_id = orders.staff_id INNER JOIN products ON orders.product_id = products.product_id ORDER BY products.price ASC LIMIT 1)\n\nUser:\n  Function response:\n    name: \"execute_query\"\n    response {\n      fields {\n        key: \"result\"\n        value {\n          list_value {\n            values {\n              list_value {\n                values {\n                  string_value: \"Alice\"\n                }\n                values {\n                  string_value: \"Smith\"\n                }\n              }\n            }\n          }\n        }\n      }\n    }\n\n\nModel:\n  \"Alice Smith sold the cheapest product.\"\n\n",
          "output_type": "stream"
        }
      ],
      "execution_count": null
    },
    {
      "cell_type": "markdown",
      "source": [
        "In this output you can see each of the conversational turns that were made. Note that the model doesn't remember anything outside of a `ChatSession` object, so you can make changes to the database structure or data and the model will respond without needing any code changes - try this out!"
      ],
      "metadata": {
        "id": "8a17aeb2a3ef"
      }
    },
    {
      "cell_type": "markdown",
      "source": [
        "## Further reading\n",
        "\n",
        "To learn more about what the Gemini API can do with function calling, check out the [Function calling cookbook](https://github.com/google-gemini/cookbook/blob/main/quickstarts/Function_calling.ipynb) (see `Manual function calling` to understand how function calling works manually) as well as [Function calling config](https://github.com/google-gemini/cookbook/blob/main/quickstarts/Function_calling_config.ipynb), which gives you fine-grained control over how function calling is triggered."
      ],
      "metadata": {
        "id": "T2nVXvVWNhFq"
      }
    }
  ]
}